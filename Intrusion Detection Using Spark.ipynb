{
 "cells": [
  {
   "cell_type": "markdown",
   "metadata": {},
   "source": [
    "## Network Intrusion Detection"
   ]
  },
  {
   "cell_type": "markdown",
   "metadata": {},
   "source": [
    "**NOTE: This notebook is worth 60% of the grade of project 2.**"
   ]
  },
  {
   "cell_type": "markdown",
   "metadata": {},
   "source": [
    "In the last four exercises, we use the KDD data set to practice how to create and operate on RDDs. In this project, we will focus on the main purpose of the KDD data set, which is a sample data set for **the Ihird International Knowledge Discovery and Data Mining Tools Competition (KDD cup 99)**."
   ]
  },
  {
   "cell_type": "markdown",
   "metadata": {},
   "source": [
    "The KDD cup 99 page describes the motivation of the competition as follows:\n",
    "> Software to detect network intrusions protects a computer network from unauthorized users, including perhaps insiders.  The intrusion detector learning task is to build a predictive model (i.e. a classifier) capable of distinguishing between \"bad\" connections, called intrusions or attacks, and \"good\" normal connections."
   ]
  },
  {
   "cell_type": "markdown",
   "metadata": {},
   "source": [
    "The classification of the KDD cup 99 mainly targets four types of attacks:\n",
    "- **DOS**: denial-of-service, e.g. syn flood;\n",
    "- **R2L**: unauthorized access from a remote machine, e.g. guessing password;\n",
    "- **U2R**:  unauthorized access to local superuser (root) privileges, e.g., various \"buffer overflow\" attacks;\n",
    "- **probing**: surveillance and other probing, e.g., port scanning."
   ]
  },
  {
   "cell_type": "markdown",
   "metadata": {},
   "source": [
    "Although the main target of the KDD cup 99 is **knowledge Discovery** and **Data Mining**, this project will not involve any training and prediction. We will simply use pyspark to explore some well-known rules to extract some useful information from the KDD 99 data set."
   ]
  },
  {
   "cell_type": "markdown",
   "metadata": {},
   "source": [
    "### Reading the KDD 99 Data Set"
   ]
  },
  {
   "cell_type": "markdown",
   "metadata": {},
   "source": [
    "In this notebook we will use the reduced dataset (1 percent) provided for the KDD Cup 1999, containing nearly half million network interactions. The file is provided as a *Gzip* file in the local directory.  "
   ]
  },
  {
   "cell_type": "code",
   "execution_count": 7,
   "metadata": {},
   "outputs": [],
   "source": [
    "import os\n",
    "from pyspark import SparkContext\n",
    "sc = SparkContext.getOrCreate()\n",
    "data_file = \"file://\" + os.getcwd() + \"/../kddcup.data_1_percent.gz\"\n",
    "raw_data = sc.textFile(data_file)"
   ]
  },
  {
   "cell_type": "markdown",
   "metadata": {},
   "source": [
    "Now we have created an RDD from the data set. The RDD data sets are structured as the csv format, with each row (i.e., each line) containing the fields of a **network interaction**. The fields in the same row are separated with commas (,). According to <http://kdd.ics.uci.edu/databases/kddcup99/task.html>, each row in the RDD data set contains the following four type of fields:"
   ]
  },
  {
   "cell_type": "markdown",
   "metadata": {},
   "source": [
    "- Basic features of individual TCP connections:\n",
    " \n",
    "|feature name  |description                                                  | type       |\n",
    "|--------------|-------------------------------------------------------------|------------|\n",
    "|duration \t   |length (number of seconds) of the connection                 | continuous |\n",
    "|protocol_type |type of the protocol, e.g. tcp, udp, etc.                    | discrete   |\n",
    "|service \t   |network service on the destination, e.g., http, telnet, etc. | discrete   |\n",
    "|src_bytes \t   |number of data bytes from source to destination \t         | continuous |\n",
    "|dst_bytes \t   |number of data bytes from destination to source \t         | continuous |\n",
    "|flag \t       |normal or error status of the connection \t                 | discrete   | \n",
    "|land \t       |1 if connection is from/to the same host/port; 0 otherwise \t | discrete   |\n",
    "|wrong_fragment|number of \"wrong\" fragments \t                             | continuous |\n",
    "|urgent \t   |number of urgent packets \t                                 | continuous |"
   ]
  },
  {
   "cell_type": "markdown",
   "metadata": {},
   "source": [
    "- Content features within a connection suggested by domain knowledge:\n",
    " \n",
    "|feature name      |description                                                  | type       |\n",
    "|------------------|-------------------------------------------------------------|------------|\n",
    "|hot \t           |number of \"hot\" indicators\t                                 |continuous  |\n",
    "|num_failed_logins |number of failed login attempts \t                         |continuous  |\n",
    "|logged_in         |1 if successfully logged in; 0 otherwise \t                 |discrete    |\n",
    "|num_compromised   |number of \"compromised\" conditions \t                         |continuous  |\n",
    "|root_shell        |1 if root shell is obtained; 0 otherwise \t                 |discrete    |\n",
    "|su_attempted      |1 if `su root` command attempted; 0 otherwise \t             |discrete    |\n",
    "|num_root          |number of \"root\" accesses \t                                 |continuous  |\n",
    "|num_file_creations|number of file creation operations \t                         |continuous  |\n",
    "|num_shells        |number of shell prompts \t                                 |continuous  |\n",
    "|num_access_files  |number of operations on access control files \t             |continuous  |\n",
    "|num_outbound_cmds |number of outbound commands in an ftp session \t             |continuous  |\n",
    "|is_hot_login      |1 if the login belongs to the \"hot\" list; 0 otherwise        |discrete    |\n",
    "|is_guest_login    |1 if the login is a \"guest\" login; 0 otherwise               |discrete    |"
   ]
  },
  {
   "cell_type": "markdown",
   "metadata": {},
   "source": [
    "- Traffic features computed using a two-second time window:\n",
    " \n",
    "|feature name  |description                                                  | type       |\n",
    "|--------------|-------------------------------------------------------------|------------|\n",
    "|count         |number of connections to the same host as the current connection in the past two seconds|continuous|\n",
    "|-             |Note: The following  features refer to these same-host connections.|      |\t\n",
    "|serror_rate   |% of connections that have \"SYN\" errors \t                 |continuous  |\n",
    "|rerror_rate   |% of connections that have \"REJ\" errors \t                 |continuous  |\n",
    "|same_srv_rate |% of connections to the same service \t                     |continuous  |\n",
    "|diff_srv_rate  |% of connections to different services                      |continuous  |\n",
    "|srv_count      |number of connections to the same service as the current connection in the past two seconds|continuous |\n",
    "|-              |Note: The following features refer to these same-service connections.|    |\t\n",
    "|srv_serror_rate|% of connections that have \"SYN\" errors                     |continuous  |\n",
    "|srv_rerror_rate|% of connections that have \"REJ\" errors                     |continuous  |\n",
    "|srv_diff_host_rate|% of connections to different hosts                      |continuous  |"
   ]
  },
  {
   "cell_type": "markdown",
   "metadata": {},
   "source": [
    "- **Tags**: classification of network interactions. This field shows the classification of the attack factor for each interactions. Possible values of tags are: back, buffer_overflow, ftp_write, guess_passwd, imap, ipsweep, land, loadmodule, multihop, neptune, nmap, normal, perl, phf, pod, portsweep, rootkit, satan, smurf, spy, teardrop, warezclient, warezmaster."
   ]
  },
  {
   "cell_type": "markdown",
   "metadata": {},
   "source": [
    "Now, based on the data set, please list the top 10 attack factors (i.e., tags that are **not** \"normal\") and print in a readable format. Note: You must use RDDs to implement your algorithm. Processing the data locally without RDDs is not acceptable."
   ]
  },
  {
   "cell_type": "code",
   "execution_count": 8,
   "metadata": {},
   "outputs": [
    {
     "name": "stdout",
     "output_type": "stream",
     "text": [
      "smurf.: counts = 28219\n",
      "neptune.: counts = 10704\n",
      "back.: counts = 195\n",
      "satan.: counts = 161\n",
      "ipsweep.: counts = 134\n",
      "warezclient.: counts = 103\n",
      "teardrop.: counts = 92\n",
      "portsweep.: counts = 85\n",
      "pod.: counts = 28\n",
      "nmap.: counts = 24\n",
      "Evaluation has taken 1.098 secs\n"
     ]
    }
   ],
   "source": [
    "from time import time\n",
    "t0 = time()\n",
    "\n",
    "# First RDD:  normal_interactions = interaction with tag = \"normal.\"\n",
    "normal_raw_data = raw_data.filter(lambda x: 'normal.' in x)\n",
    "\n",
    "# Second RDD: attack_interactions = interaction with tag != \"normal.\"\n",
    "attack_raw_data = raw_data.subtract(normal_raw_data)\n",
    "\n",
    "# third RDD:  attack_tag_counts = interaction count of each tag which is not \"normal\".\n",
    "attack_data_csv = attack_raw_data.map(lambda x: x.split(\",\"))\n",
    "attack_data_map = attack_data_csv.map(lambda x: (x[41], x))\n",
    "attack_tag_counts = attack_data_map.countByKey()\n",
    "\n",
    "# fourth RDD: attack_tag_counts_sorted = sorted list of tags with their interaction counts.\n",
    "attack_tag_counts_sorted =[(tag,attack_tag_counts[tag]) for tag in sorted(attack_tag_counts, key=attack_tag_counts.get, reverse=True)]\n",
    "\n",
    "# result:     attack_tag_counts_top10 = top 10 attack tags and their interaction counts.\n",
    "attack_tag_counts_top10 = attack_tag_counts_sorted[:10]\n",
    "tt = time() - t0\n",
    "\n",
    "for (tag, count) in attack_tag_counts_top10:\n",
    "    print(tag + \": counts = \" + str(count))\n",
    "    \n",
    "print(\"Evaluation has taken {} secs\".format(round(tt,3)))"
   ]
  },
  {
   "cell_type": "markdown",
   "metadata": {},
   "source": [
    "### Distributed Denial of Service (DDOS)"
   ]
  },
  {
   "cell_type": "markdown",
   "metadata": {},
   "source": [
    "The KDD 99 data set has defined six primary types of DOS attacks: **back**, **land**, **neptune**, **pod**, **smurf**, **teardrop**. Without further details of these DOS attacks, can you identified the attacks which are **most distributed**, as well as the attacks which are **most correlated with SYN errors**?"
   ]
  },
  {
   "cell_type": "markdown",
   "metadata": {},
   "source": [
    "First, filter the network interactions in the raw data to contain only these six types of DOS attacks:"
   ]
  },
  {
   "cell_type": "code",
   "execution_count": 9,
   "metadata": {},
   "outputs": [
    {
     "name": "stdout",
     "output_type": "stream",
     "text": [
      "pod.: counts = 28\n",
      "smurf.: counts = 28219\n",
      "land.: counts = 3\n",
      "neptune.: counts = 10704\n",
      "back.: counts = 195\n",
      "teardrop.: counts = 92\n",
      "Filtering DOS attacks has taken 0.429 secs\n"
     ]
    }
   ],
   "source": [
    "t0 = time()\n",
    "\n",
    "# Filter the network interactions to include only DOS attacks\n",
    "dos_attack_csv=attack_data_csv.filter(lambda x: x[41] in [\"back.\", \"land.\", \"neptune.\", \"pod.\", \"smurf.\", \"teardrop.\"])\n",
    "dos_attack_data =  dos_attack_csv.map(lambda x: (x[41],x))\n",
    "\n",
    "# Calculate the count of DOS interactions for each tag\n",
    "dos_attack_counts=dos_attack_data.countByKey()\n",
    "dos_attack_counts=[(tag,dos_attack_counts[tag]) for tag in dos_attack_counts]\n",
    "tt = time() - t0\n",
    "\n",
    "for (tag, count) in dos_attack_counts:\n",
    "    print(tag + \": counts = \" + str(count))\n",
    "\n",
    "print(\"Filtering DOS attacks has taken {} secs\".format(round(tt,3)))"
   ]
  },
  {
   "cell_type": "markdown",
   "metadata": {},
   "source": [
    "Then, sort the DOS attacks to show, from the highest to the lowest, **the average numbers of connections** within the last 2 seconds (in regards to each host) involved in each DOS attack. Hint: use the mean values of the field `count` to determine the **most distributed** DOS attacks."
   ]
  },
  {
   "cell_type": "code",
   "execution_count": 10,
   "metadata": {},
   "outputs": [
    {
     "name": "stdout",
     "output_type": "stream",
     "text": [
      "smurf.: degree = 507.03696091286014\n",
      "neptune.: degree = 188.18890134529147\n",
      "teardrop.: degree = 65.52173913043478\n",
      "back.: degree = 3.2\n",
      "pod.: degree = 3.0\n",
      "land.: degree = 1.0\n",
      "Sorting DOS attacks by degree of distribution has taken 0.607 secs\n"
     ]
    }
   ],
   "source": [
    "t0 = time()\n",
    "\n",
    "# Calculate the mean values of distribution degrees (# of connections involved with the interaction)\n",
    "connection_count = dos_attack_csv.map(lambda x: (x[41],float(x[22])))\n",
    "sum_connections_total_count = connection_count.combineByKey(\n",
    "(lambda x: (x,1)),\n",
    "(lambda acc, value: (acc[0]+value,acc[1]+1)),\n",
    "(lambda acc1,acc2: (acc1[0] + acc2[0],acc1[1] + acc2[1]  ))\n",
    ")\n",
    "\n",
    "degree_of_attack = sum_connections_total_count.map(lambda x : (x[0], (x[1][0]/x[1][1]))).collectAsMap()\n",
    "sorted_dos_attack_degrees =[(tag,degree_of_attack[tag]) for tag in sorted(degree_of_attack, key=degree_of_attack.get, reverse=True)]\n",
    "\n",
    "tt = time() - t0\n",
    "\n",
    "for (tag, degree) in sorted_dos_attack_degrees:\n",
    "    print(tag + \": degree = \" + str(degree))\n",
    "\n",
    "print(\"Sorting DOS attacks by degree of distribution has taken {} secs\".format(round(tt,3)))"
   ]
  },
  {
   "cell_type": "markdown",
   "metadata": {},
   "source": [
    "Finally, sort the DOS attacks show, from the highest to the lowest, **the average numbers of SYN errors** within the last 2 seconds (in regards to each host) involved in each DOS attack. Hint: approximate the numbers of SYN errors by multiplying `count` with `serror_rate`."
   ]
  },
  {
   "cell_type": "code",
   "execution_count": 11,
   "metadata": {},
   "outputs": [
    {
     "ename": "NameError",
     "evalue": "name 'synerror_per_interactions' is not defined",
     "output_type": "error",
     "traceback": [
      "\u001b[0;31m---------------------------------------------------------------------------\u001b[0m",
      "\u001b[0;31mNameError\u001b[0m                                 Traceback (most recent call last)",
      "\u001b[0;32m<ipython-input-11-dfcb36c2c009>\u001b[0m in \u001b[0;36m<module>\u001b[0;34m()\u001b[0m\n\u001b[0;32m----> 1\u001b[0;31m \u001b[0msynerror_per_interactions\u001b[0m\u001b[0;34m.\u001b[0m\u001b[0mtake\u001b[0m\u001b[0;34m(\u001b[0m\u001b[0;36m2\u001b[0m\u001b[0;34m)\u001b[0m\u001b[0;34m\u001b[0m\u001b[0m\n\u001b[0m",
      "\u001b[0;31mNameError\u001b[0m: name 'synerror_per_interactions' is not defined"
     ]
    }
   ],
   "source": [
    "synerror_per_interactions.take(2)"
   ]
  },
  {
   "cell_type": "code",
   "execution_count": 12,
   "metadata": {},
   "outputs": [],
   "source": [
    "synerror_per_interactions = dos_attack_csv.map(lambda x: (x[41],float(x[23])* float(x[22])))"
   ]
  },
  {
   "cell_type": "code",
   "execution_count": 13,
   "metadata": {},
   "outputs": [
    {
     "name": "stdout",
     "output_type": "stream",
     "text": [
      "smurf.: degree = 257408.19334490946\n",
      "teardrop.: degree = 4224.565217391304\n",
      "neptune.: degree = 2168.905736173393\n",
      "pod.: degree = 24.357142857142858\n",
      "back.: degree = 13.23076923076923\n",
      "land.: degree = 1.6666666666666667\n",
      "Sorting DOS attacks by correlation with SYN flooding has taken 0.667 secs\n"
     ]
    }
   ],
   "source": [
    "t0 = time()\n",
    "\n",
    "# Calculate the average numbers of connections with SYN errors (# of connections involved with the interaction)\n",
    "synerror_per_interactions = dos_attack_csv.map(lambda x: (x[41],float(x[23])* float(x[22])))\n",
    "sum_connections_count_interactions = synerror_per_interactions.combineByKey(\n",
    "(lambda x: (x,1)),\n",
    "(lambda acc, value: (acc[0]+value,acc[1]+1)),\n",
    "(lambda acc1,acc2: (acc1[0] + acc2[0],acc1[1] + acc2[1]  ))\n",
    ")\n",
    "\n",
    "avg_conn_per_interaction = sum_connections_count_interactions.map(lambda x : (x[0], (x[1][0]/x[1][1]))).collectAsMap()\n",
    "\n",
    "sorted_dos_attack_syn_error_counts =[(tag,avg_conn_per_interaction[tag]) for tag in sorted(avg_conn_per_interaction, key=avg_conn_per_interaction.get, reverse=True)]\n",
    "tt = time() - t0\n",
    "\n",
    "for (tag, count) in sorted_dos_attack_syn_error_counts:\n",
    "    print(tag + \": degree = \" + str(count))\n",
    "\n",
    "print(\"Sorting DOS attacks by correlation with SYN flooding has taken {} secs\".format(round(tt,3)))"
   ]
  },
  {
   "cell_type": "markdown",
   "metadata": {},
   "source": [
    "### Brute-force Login Attacks"
   ]
  },
  {
   "cell_type": "markdown",
   "metadata": {},
   "source": [
    "A brute-force login attack relies on the attacker continuously re-attempting failed login to a host until being able to log into the host and eventually to perform `su` to become the root user. A host often has defense mechanisms such as ASLR (Address Space Layout Randomization) to reduce the probability for an attack to successfully perform `su` following successful login."
   ]
  },
  {
   "cell_type": "markdown",
   "metadata": {},
   "source": [
    "Now we will calculate the **the average number of failed login attempt** before successful login (i.e., `logged_in == 1`), and **the average number of failed login attempt** before successful `su` to gain the root shell (i.e., `root_shell == 1`)."
   ]
  },
  {
   "cell_type": "code",
   "execution_count": 29,
   "metadata": {},
   "outputs": [
    {
     "name": "stdout",
     "output_type": "stream",
     "text": [
      "Average number of attempts before successful login: 0.0\n",
      "Average number of attempts before successful su: 0.0\n",
      "Calculating the difficulty of brute-force login attacks has taken 0.767 secs\n"
     ]
    }
   ],
   "source": [
    "t0 = time()\n",
    "\n",
    "data_csv=raw_data.map(lambda x: x.split(\",\"))\n",
    "# Calculate the average numbers of failed login attempt before successful login\n",
    "succesfull_login_filtered = data_csv.filter(lambda x: x[11]=='1')\n",
    "\n",
    "succesfull_login_map = succesfull_login_filtered.map(lambda x: float(x[10]))\n",
    "calculations_for_login = succesfull_login_map.aggregate(\n",
    "    (0,0), # the initial value\n",
    "    (lambda acc, value: (acc[0] + value, acc[1] + 1)), # combine value with acc\n",
    "    (lambda acc1, acc2: (acc1[0] + acc2[0], acc1[1] + acc2[1])) # combine accumulators\n",
    ")\n",
    "average_attempt_before_login = round(calculations_for_login[0]/float(calculations_for_login[1]),3)\n",
    "\n",
    "# Calculate the average numbers of failed login attempt before successful `su` to gain the root shell\n",
    "succesfull_su_filtered = data_csv.filter(lambda x: x[13]=='1')\n",
    "succesfull_su_map = succesfull_su_filtered.map(lambda x: float(x[10]))\n",
    "calculation_for_su = succesfull_su_map.aggregate(\n",
    "    (0,0), # the initial value\n",
    "    (lambda acc, value: (acc[0] + value, acc[1] + 1)), # combine value with acc\n",
    "    (lambda acc1, acc2: (acc1[0] + acc2[0], acc1[1] + acc2[1])) # combine accumulators\n",
    ")\n",
    "average_attempt_before_su = round(calculation_for_su[0]/float(calculation_for_su[1]),3)\n",
    "\n",
    "tt = time() - t0\n",
    "\n",
    "\n",
    "print(\"Average number of attempts before successful login: {}\".format(average_attempt_before_login))\n",
    "print(\"Average number of attempts before successful su: {}\".format(average_attempt_before_su))\n",
    "\n",
    "print(\"Calculating the difficulty of brute-force login attacks has taken {} secs\".format(round(tt,3)))"
   ]
  },
  {
   "cell_type": "markdown",
   "metadata": {},
   "source": [
    "### You are done!"
   ]
  },
  {
   "cell_type": "code",
   "execution_count": null,
   "metadata": {},
   "outputs": [],
   "source": [
    "# If you have finished this notebook and are ready to submit, please uncomment and\n",
    "# execute the following code to let the TA know.\n",
    "# print \"Ready for grading.\""
   ]
  }
 ],
 "metadata": {
  "kernelspec": {
   "display_name": "Python 3",
   "language": "python",
   "name": "python3"
  },
  "language_info": {
   "codemirror_mode": {
    "name": "ipython",
    "version": 3
   },
   "file_extension": ".py",
   "mimetype": "text/x-python",
   "name": "python",
   "nbconvert_exporter": "python",
   "pygments_lexer": "ipython3",
   "version": "3.5.2"
  }
 },
 "nbformat": 4,
 "nbformat_minor": 2
}
